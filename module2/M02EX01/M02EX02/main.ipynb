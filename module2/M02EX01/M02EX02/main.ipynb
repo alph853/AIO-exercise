{
 "cells": [
  {
   "cell_type": "markdown",
   "metadata": {},
   "source": [
    "## **Compute length of a vector**\n",
    "\n",
    "- Given $\\mathbf{v} = [v_1, v_2, \\ldots, v_n]^T \\implies \\|\\mathbf{v}\\| = \\sqrt{v_1^2 + v_2^2 + \\ldots + v_n^2}$\n"
   ]
  },
  {
   "cell_type": "code",
   "execution_count": 1,
   "metadata": {},
   "outputs": [],
   "source": [
    "import numpy as np\n",
    "def compute_vector_lengths(v):\n",
    "    len_of_vecctor = np.sqrt(np.sum(v**2, axis=1))\n",
    "\n",
    "    return len_of_vecctor"
   ]
  },
  {
   "cell_type": "markdown",
   "metadata": {},
   "source": [
    "## **Compute Dot Product**\n",
    "\n",
    "- $\\mathbf{v} \\cdot \\mathbf{u} = \\sum_{i=0}^{n} v_i u_i $"
   ]
  },
  {
   "cell_type": "code",
   "execution_count": 2,
   "metadata": {},
   "outputs": [],
   "source": [
    "def compute_dot_product(v, u):\n",
    "    result = np.dot(v, u)\n",
    "    \n",
    "    return result"
   ]
  },
  {
   "cell_type": "markdown",
   "metadata": {},
   "source": [
    "## **Multiply a vector by a matrix**\n",
    "\n",
    "- Matrix: $ \\mathbf{A} = \\begin{bmatrix}\n",
    "    a_{11} & \\cdots & a_{1n} \\\\\n",
    "    \\vdots & \\ddots & \\vdots \\\\\n",
    "    a_{m1} & \\cdots & a_{mn}\n",
    "\\end{bmatrix}, \\mathbf{A} \\in \\mathbb{R}^{m \\times n} $\n",
    "\n",
    "- Vector: $ \\mathbf{v} = \\begin{bmatrix}\n",
    "    v_1 \\\\\n",
    "    v_2 \\\\\n",
    "    \\vdots \\\\\n",
    "    v_n\n",
    "\\end{bmatrix}, \\mathbf{v} \\in \\mathbb{R}^n $\n",
    "\n",
    "- $ \\mathbf{c} = \\mathbf{A} \\mathbf{v} = \\begin{bmatrix}\n",
    "    a_{11} \\cdot v_1 + \\cdots + a_{1n} \\cdot v_n \\\\\n",
    "    \\vdots \\\\\n",
    "    a_{m1} \\cdot v_1 + \\cdots + a_{mn} \\cdot v_n\n",
    "\\end{bmatrix}, \\mathbf{c} \\in \\mathbb{R}^n $\n"
   ]
  },
  {
   "cell_type": "code",
   "execution_count": 7,
   "metadata": {},
   "outputs": [
    {
     "name": "stdout",
     "output_type": "stream",
     "text": [
      "[5 4]\n"
     ]
    }
   ],
   "source": [
    "def matrix_multi_vector(A, v):\n",
    "    result = np.dot(A, v)\n",
    "\n",
    "    return result"
   ]
  },
  {
   "cell_type": "markdown",
   "metadata": {},
   "source": [
    "## **Multiply a matrix by a matrix**\n",
    "\n",
    "- $ \\mathbf{A} = \\begin{bmatrix}\n",
    "    a_{11} & \\cdots & a_{1n} \\\\\n",
    "    \\vdots & \\ddots & \\vdots \\\\\n",
    "    a_{m1} & \\cdots & a_{mn}\n",
    "\\end{bmatrix}, \\mathbf{A} \\in \\mathbb{R}^{m \\times n} $\n",
    "\n",
    "- $ \\mathbf{B} = \\begin{bmatrix}\n",
    "    b_{11} & \\cdots & b_{1k} \\\\\n",
    "    \\vdots & \\ddots & \\vdots \\\\\n",
    "    b_{n1} & \\cdots & b_{nk}\n",
    "\\end{bmatrix}, \\mathbf{B} \\in \\mathbb{R}^{n \\times k} $\n",
    "\n",
    "- $ c = \\mathbf{AB}$"
   ]
  },
  {
   "cell_type": "code",
   "execution_count": null,
   "metadata": {},
   "outputs": [],
   "source": [
    "def matrix_multi_matrix(A , B):\n",
    "    result = np.dot(A, B)\n",
    "\n",
    "    return result"
   ]
  },
  {
   "cell_type": "markdown",
   "metadata": {},
   "source": [
    "## **Inverse Matrix**\n",
    "\n",
    "- $ \\mathbf{A} = \\begin{bmatrix}\n",
    "    -2 & 6 \\\\\n",
    "    8 & -4\n",
    "\\end{bmatrix}, \\quad \\mathbf{A} \\in \\mathbb{R}^{2 \\times 2} $\n",
    "\n",
    "$ \\implies det(\\mathbf{A}) = (-2)(-4) - 6\\times 8 = -40 $\n",
    "\n",
    "$ \\implies \\mathbf{A}$ is invertible\n",
    "\n",
    "$ \\implies \\mathbf{A}^{-1} = \\dfrac{1}{det(\\mathbf{A})} \\begin{bmatrix}\n",
    "    -4 & -6 \\\\\n",
    "    -8 & -2\n",
    "\\end{bmatrix} = \\begin{bmatrix}\n",
    "    0.1 & 0.15 \\\\\n",
    "    0.2 & 0.05\n",
    "\\end{bmatrix} $"
   ]
  },
  {
   "cell_type": "code",
   "execution_count": 13,
   "metadata": {},
   "outputs": [
    {
     "name": "stdout",
     "output_type": "stream",
     "text": [
      "[[0.1  0.15]\n",
      " [0.2  0.05]]\n"
     ]
    }
   ],
   "source": [
    "import numpy as np\n",
    "def inverse_matrix(matrix):\n",
    "    return np.linalg.inv(matrix)\n",
    "\n",
    "print(inverse_matrix(np.array([[-2, 6], [8, -4]])))"
   ]
  },
  {
   "cell_type": "markdown",
   "metadata": {},
   "source": [
    "## **Eigenvectors and eigenvalues**\n",
    "\n",
    "**Solve for Eigenvalues**\n",
    "- $\\mathbf{A} = \\begin{bmatrix}\n",
    "    0.9 & 0.2 \\\\\n",
    "    0.1 & 0.8\n",
    "\\end{bmatrix}, \\quad \\mathbf{I} \\in \\mathbb{R}^{n\\times n} $\n",
    "\n",
    "$\\implies \\mathbf{A} - \\lambda \\mathbf{I} = \\begin{bmatrix}\n",
    "    0.9 - \\lambda & 0.2 \\\\\n",
    "    0.1 & 0.8 - \\lambda\n",
    "\\end{bmatrix} $\n",
    "\n",
    "$ \\implies det(\\mathbf{A} - \\lambda \\mathbf{I}) = (0.9 - \\lambda)(0.8 - \\lambda) - 0.2\\times 0.1 = 0$\n",
    "\n",
    "$ \\implies $ Solve for $ \\lambda \\implies \\lambda = \\{0.7, 1\\} $\n",
    "\n",
    "**Solve for Eigenvectors**\n",
    "- Let $\\mathbf{v} = [v_1, v_2]^T$\n",
    "\n",
    "$ \\implies (\\mathbf{A} - \\lambda \\mathbf{I})\\mathbf{v} =\\begin{bmatrix}\n",
    "    (0.9 - \\lambda)v_1 + 0.2v_2  \\\\\n",
    "    0.1v_1 + (0.8 - \\lambda)v_2\n",
    "\\end{bmatrix} = 0$\n",
    "\n",
    "- $\\lambda = 1: v_1 = 2v_2 $\n",
    "\n",
    "$ \\implies \\mathbf{v} = [2,\\;1]^T \\implies$ Normalize vector $ = \\left[\\dfrac{2\\sqrt{5}}{5}, \\dfrac{\\sqrt{5}}{5}\\right]^T$\n",
    "\n",
    "- $\\lambda = 0.7: v_1 = -v_2$\n",
    "\n",
    "$ \\implies \\mathbf{v} = [-1,\\;1]^T \\implies$ Normalize vector $ = \\left[-\\dfrac{\\sqrt{2}}{2}, \\dfrac{\\sqrt{2}}{2}\\right]^T$\n"
   ]
  },
  {
   "cell_type": "code",
   "execution_count": 15,
   "metadata": {},
   "outputs": [
    {
     "data": {
      "text/plain": [
       "EigResult(eigenvalues=array([1. , 0.7]), eigenvectors=array([[ 0.89442719, -0.70710678],\n",
       "       [ 0.4472136 ,  0.70710678]]))"
      ]
     },
     "execution_count": 15,
     "metadata": {},
     "output_type": "execute_result"
    }
   ],
   "source": [
    "def compute_eigenvalues_eigenvectors(matrix):\n",
    "    return np.linalg.eig(matrix)\n",
    "\n",
    "compute_eigenvalues_eigenvectors(np.array([[0.9, 0.2], [0.1, 0.8]]))"
   ]
  },
  {
   "cell_type": "markdown",
   "metadata": {},
   "source": [
    "## **Cosine similarity**\n",
    "\n",
    "cos $(x,y) = \\dfrac{x\\cdot y}{\\|x\\|\\|y\\|}$\n",
    "\n",
    "$ x \\cdot y = 10, \\quad \\|x\\| = \\sqrt{30}, \\quad \\|y\\| = \\sqrt{10} $\n",
    "\n",
    "$\\implies $ cos $(x, y) = \\dfrac{\\sqrt{3}}{3} $"
   ]
  },
  {
   "cell_type": "code",
   "execution_count": 16,
   "metadata": {},
   "outputs": [
    {
     "name": "stdout",
     "output_type": "stream",
     "text": [
      "0.5773502691896257\n"
     ]
    }
   ],
   "source": [
    "def compute_cosine(v1, v2):\n",
    "    return np.dot(v1, v2) / (np.linalg.norm(v1) * np.linalg.norm(v2))\n",
    "\n",
    "print(compute_cosine(np.array([1, 2,3,4]), np.array([1,0,3, 0])))"
   ]
  },
  {
   "cell_type": "markdown",
   "metadata": {},
   "source": [
    "## **Background subtraction**"
   ]
  },
  {
   "cell_type": "code",
   "execution_count": 19,
   "metadata": {},
   "outputs": [
    {
     "ename": "error",
     "evalue": "OpenCV(4.7.0) D:\\bld\\libopencv_1675730129252\\work\\modules\\imgproc\\src\\resize.cpp:4062: error: (-215:Assertion failed) !ssize.empty() in function 'cv::resize'\n",
     "output_type": "error",
     "traceback": [
      "\u001b[1;31m---------------------------------------------------------------------------\u001b[0m",
      "\u001b[1;31merror\u001b[0m                                     Traceback (most recent call last)",
      "Cell \u001b[1;32mIn[19], line 5\u001b[0m\n\u001b[0;32m      2\u001b[0m \u001b[38;5;28;01mimport\u001b[39;00m \u001b[38;5;21;01mcv2\u001b[39;00m\n\u001b[0;32m      4\u001b[0m bg1_image \u001b[38;5;241m=\u001b[39m cv2\u001b[38;5;241m.\u001b[39mimread(\u001b[38;5;124m'\u001b[39m\u001b[38;5;124mGreenBackground.png\u001b[39m\u001b[38;5;124m'\u001b[39m, \u001b[38;5;241m1\u001b[39m)\n\u001b[1;32m----> 5\u001b[0m bg1_image \u001b[38;5;241m=\u001b[39m cv2\u001b[38;5;241m.\u001b[39mresize(bg1_image, (\u001b[38;5;241m678\u001b[39m, \u001b[38;5;241m381\u001b[39m))\n\u001b[0;32m      7\u001b[0m ob_image \u001b[38;5;241m=\u001b[39m cv2\u001b[38;5;241m.\u001b[39mimread(\u001b[38;5;124m'\u001b[39m\u001b[38;5;124mObject.png\u001b[39m\u001b[38;5;124m'\u001b[39m, \u001b[38;5;241m1\u001b[39m)\n\u001b[0;32m      8\u001b[0m ob_image \u001b[38;5;241m=\u001b[39m cv2\u001b[38;5;241m.\u001b[39mresize(ob_image, (\u001b[38;5;241m678\u001b[39m, \u001b[38;5;241m381\u001b[39m))\n",
      "\u001b[1;31merror\u001b[0m: OpenCV(4.7.0) D:\\bld\\libopencv_1675730129252\\work\\modules\\imgproc\\src\\resize.cpp:4062: error: (-215:Assertion failed) !ssize.empty() in function 'cv::resize'\n"
     ]
    }
   ],
   "source": [
    "import numpy as np\n",
    "import cv2\n",
    "\n",
    "bg1_image = cv2.imread('GreenBackground.png', 1)\n",
    "bg1_image = cv2.resize(bg1_image, (678, 381))\n",
    "\n",
    "ob_image = cv2.imread('Object.png', 1)\n",
    "ob_image = cv2.resize(ob_image, (678, 381))\n",
    "\n",
    "bg2_image = cv2.imread('NewBackground.jpg', 1)\n",
    "bg2_image = cv2.resize(bg2_image, (678, 381))"
   ]
  },
  {
   "cell_type": "code",
   "execution_count": null,
   "metadata": {},
   "outputs": [],
   "source": [
    "def compute_difference(bg_img, input_img):\n",
    "    return np.abs(bg_img - input_img)\n",
    "\n",
    "difference_single_channel = compute_difference(bg1_image, ob_image)"
   ]
  },
  {
   "cell_type": "code",
   "execution_count": 17,
   "metadata": {},
   "outputs": [
    {
     "ename": "NameError",
     "evalue": "name 'difference_single_channel' is not defined",
     "output_type": "error",
     "traceback": [
      "\u001b[1;31m---------------------------------------------------------------------------\u001b[0m",
      "\u001b[1;31mNameError\u001b[0m                                 Traceback (most recent call last)",
      "Cell \u001b[1;32mIn[17], line 4\u001b[0m\n\u001b[0;32m      1\u001b[0m \u001b[38;5;28;01mdef\u001b[39;00m \u001b[38;5;21mcompute_binary_mask\u001b[39m(difference_single_channel):\n\u001b[0;32m      2\u001b[0m     \u001b[38;5;28;01mreturn\u001b[39;00m difference_single_channel \u001b[38;5;241m>\u001b[39m \u001b[38;5;241m100\u001b[39m\n\u001b[1;32m----> 4\u001b[0m binary_mask \u001b[38;5;241m=\u001b[39m compute_binary_mask(difference_single_channel)\n\u001b[0;32m      5\u001b[0m cv2_imshow(binary_mask)\n",
      "\u001b[1;31mNameError\u001b[0m: name 'difference_single_channel' is not defined"
     ]
    }
   ],
   "source": [
    "def compute_binary_mask(difference_single_channel):\n",
    "    return difference_single_channel > 100\n",
    "\n",
    "binary_mask = compute_binary_mask(difference_single_channel)\n",
    "cv2_imshow(binary_mask)"
   ]
  }
 ],
 "metadata": {
  "kernelspec": {
   "display_name": "AIO",
   "language": "python",
   "name": "python3"
  },
  "language_info": {
   "codemirror_mode": {
    "name": "ipython",
    "version": 3
   },
   "file_extension": ".py",
   "mimetype": "text/x-python",
   "name": "python",
   "nbconvert_exporter": "python",
   "pygments_lexer": "ipython3",
   "version": "3.11.9"
  }
 },
 "nbformat": 4,
 "nbformat_minor": 2
}
