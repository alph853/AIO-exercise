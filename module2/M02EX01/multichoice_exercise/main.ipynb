{
 "cells": [
  {
   "cell_type": "markdown",
   "metadata": {},
   "source": [
    "## Question 12 - 14\n",
    "Transform colored to grayscale image using lightness, average and luminosity methods:"
   ]
  },
  {
   "cell_type": "code",
   "execution_count": 1,
   "metadata": {},
   "outputs": [],
   "source": [
    "import matplotlib.image as mpimg\n",
    "import numpy as np\n",
    "\n",
    "img = mpimg.imread('./dog.jpeg')"
   ]
  },
  {
   "cell_type": "code",
   "execution_count": 2,
   "metadata": {},
   "outputs": [
    {
     "name": "stdout",
     "output_type": "stream",
     "text": [
      "Q12(lightness)  = 102.5\n"
     ]
    }
   ],
   "source": [
    "'''\n",
    "Question 12. Lightness method\n",
    "'''\n",
    "gray_img_01 = (np.min(img, axis=2) + np.max(img, axis=2)) * 0.5\n",
    "print(f\"{'Q12(lightness)':<{15}} = {gray_img_01[0, 0]}\")"
   ]
  },
  {
   "cell_type": "code",
   "execution_count": 3,
   "metadata": {},
   "outputs": [
    {
     "name": "stdout",
     "output_type": "stream",
     "text": [
      "Q13(average)    = 107.66666666666667\n"
     ]
    }
   ],
   "source": [
    "'''\n",
    "Question 13. Average method\n",
    "'''\n",
    "gray_img_02 = np.average(img, axis=2)\n",
    "print(f\"{'Q13(average)':<{15}} = {gray_img_02[0, 0]}\")"
   ]
  },
  {
   "cell_type": "code",
   "execution_count": 4,
   "metadata": {},
   "outputs": [
    {
     "name": "stdout",
     "output_type": "stream",
     "text": [
      "Q14(luminosity) = 126.22999999999999\n"
     ]
    }
   ],
   "source": [
    "'''\n",
    "Question 14. Luminosity method\n",
    "'''\n",
    "gray_img_03 = np.dot(img[..., :3], [0.21, 0.72, 0.07])\n",
    "print(f\"{'Q14(luminosity)':<{15}} = {gray_img_03[0, 0]}\")"
   ]
  },
  {
   "cell_type": "markdown",
   "metadata": {},
   "source": [
    "## Question 15 - 21\n",
    "Working with dataframe\n"
   ]
  },
  {
   "cell_type": "code",
   "execution_count": 5,
   "metadata": {},
   "outputs": [],
   "source": [
    "import pandas as pd\n",
    "\n",
    "df = pd.read_csv('advertising.csv')\n",
    "data = df.to_numpy()"
   ]
  },
  {
   "cell_type": "code",
   "execution_count": 6,
   "metadata": {},
   "outputs": [
    {
     "name": "stdout",
     "output_type": "stream",
     "text": [
      "Q15. Max: 27.0 - Index: 175\n"
     ]
    }
   ],
   "source": [
    "'''\n",
    "Question 15. Find the maximum sales and its index\n",
    "'''\n",
    "sales = data[:, df.columns.get_loc('Sales')]\n",
    "print(f\"Q15. Max: {sales.max()} - Index: {sales.argmax()}\")"
   ]
  },
  {
   "cell_type": "code",
   "execution_count": 7,
   "metadata": {},
   "outputs": [
    {
     "name": "stdout",
     "output_type": "stream",
     "text": [
      "Q16. 147.0425\n"
     ]
    }
   ],
   "source": [
    "'''\n",
    "Question 16. Find the average TV sales\n",
    "'''\n",
    "tv = data[:, df.columns.get_loc('TV')]\n",
    "print(f\"Q16. {tv.mean()}\")"
   ]
  },
  {
   "cell_type": "code",
   "execution_count": 8,
   "metadata": {},
   "outputs": [
    {
     "name": "stdout",
     "output_type": "stream",
     "text": [
      "Q17. 40\n"
     ]
    }
   ],
   "source": [
    "'''\n",
    "Question 17. Find the number of observations with sales not lower than 20\n",
    "'''\n",
    "print(f\"Q17. {len(sales[sales >= 20])}\")"
   ]
  },
  {
   "cell_type": "code",
   "execution_count": 9,
   "metadata": {},
   "outputs": [
    {
     "name": "stdout",
     "output_type": "stream",
     "text": [
      "Q18. 26.22293577981651\n"
     ]
    }
   ],
   "source": [
    "'''\n",
    "Question 18. Find the average of radio sales with sales not lower than 15\n",
    "'''\n",
    "print(f\"Q18. {data[:, df.columns.get_loc('Radio')][sales >= 15].mean()}\")"
   ]
  },
  {
   "cell_type": "code",
   "execution_count": 10,
   "metadata": {},
   "outputs": [
    {
     "name": "stdout",
     "output_type": "stream",
     "text": [
      "Q19. 1405.1\n"
     ]
    }
   ],
   "source": [
    "'''\n",
    "Question 19. Find the sum of sales with above average newspaper:\n",
    "'''\n",
    "newspaper = data[:, df.columns.get_loc('Newspaper')]\n",
    "print(f\"Q19. {sales[newspaper > newspaper.mean()].sum()}\")"
   ]
  },
  {
   "cell_type": "code",
   "execution_count": 11,
   "metadata": {},
   "outputs": [
    {
     "name": "stdout",
     "output_type": "stream",
     "text": [
      "Q20. ['Bad' 'Bad' 'Good']\n"
     ]
    }
   ],
   "source": [
    "'''\n",
    "Question 20. A = mean. Find good (> A), avg (A) and bad (< A) sales\n",
    "'''\n",
    "\n",
    "A = sales.mean()\n",
    "# We traverse the same array 3 times in this method... TT\n",
    "scores = np.empty(len(sales), dtype='object')\n",
    "scores[sales > A] = 'Good'\n",
    "scores[sales < A] = 'Bad'\n",
    "scores[sales == A] = 'Average'\n",
    "\n",
    "# Apply conditions on the way! ^^\n",
    "conditions = [sales > A, sales < A, sales == A]\n",
    "choices = ['Good', 'Bad', 'Average']\n",
    "scores2 = np.select(conditions, choices, default='Unknown')\n",
    "\n",
    "assert np.array_equal(scores, scores2)\n",
    "\n",
    "print(f\"Q20. {scores[7:10]}\")"
   ]
  },
  {
   "cell_type": "code",
   "execution_count": 12,
   "metadata": {},
   "outputs": [
    {
     "name": "stdout",
     "output_type": "stream",
     "text": [
      "Q21. ['Bad' 'Bad' 'Good']\n"
     ]
    }
   ],
   "source": [
    "'''\n",
    "Question 21. A = nearest value to average. Find good (> A), avg (A) and bad (< A) sales\n",
    "'''\n",
    "\n",
    "A = sales[np.abs(sales - sales.mean()).argmin()]\n",
    "conditions = [sales > A, sales < A, sales == A]\n",
    "choices = ['Good', 'Bad', 'Average']\n",
    "scores2 = np.select(conditions, choices, default='Unknown')\n",
    "\n",
    "print(f\"Q21. {scores[7:10]}\")"
   ]
  }
 ],
 "metadata": {
  "kernelspec": {
   "display_name": "AIO",
   "language": "python",
   "name": "python3"
  },
  "language_info": {
   "codemirror_mode": {
    "name": "ipython",
    "version": 3
   },
   "file_extension": ".py",
   "mimetype": "text/x-python",
   "name": "python",
   "nbconvert_exporter": "python",
   "pygments_lexer": "ipython3",
   "version": "3.11.9"
  }
 },
 "nbformat": 4,
 "nbformat_minor": 2
}
